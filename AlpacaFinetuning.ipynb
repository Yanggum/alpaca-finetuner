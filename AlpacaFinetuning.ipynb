{
  "cells": [
    {
      "cell_type": "markdown",
      "metadata": {
        "id": "view-in-github",
        "colab_type": "text"
      },
      "source": [
        "<a href=\"https://colab.research.google.com/github/Yanggum/alpaca-finetuner/blob/main/AlpacaFinetuning.ipynb\" target=\"_parent\"><img src=\"https://colab.research.google.com/assets/colab-badge.svg\" alt=\"Open In Colab\"/></a>"
      ]
    },
    {
      "cell_type": "code",
      "execution_count": null,
      "metadata": {
        "id": "AngC1Shs6CZX",
        "cellView": "form"
      },
      "outputs": [],
      "source": [
        "#@title Simple Fine Tuner\n",
        "\n",
        "#google drive mount\n",
        "from google.colab import drive\n",
        "drive.mount('/content/drive', force_remount=True)\n",
        "\n",
        "#nvidia graphic card confirm\n",
        "!nvidia-smi\n",
        "\n",
        "#alpaca-lora clone and install\n",
        "!git clone https://github.com/Yanggum/alpaca-lora.git\n",
        "%cd alpaca-lora\n",
        "!pip install -r requirements.txt\n",
        "\n",
        "# path\n",
        "folder_path = \"Neptune\" #@param {type:\"string\"}\n",
        "param = \"65B\" #@param [\"7B\", \"13B\", \"30B\", \"65B\"]\n",
        "\n",
        "#alpaca-lora 파인튜닝\n",
        "if param == \"65B\":\n",
        "  !python ./finetune_65B.py\n",
        "elif param == \"30B\":\n",
        "  !python ./finetune_30B.py\n",
        "elif param == \"13B\":\n",
        "  !python ./finetune_13B.py\n",
        "else:\n",
        "  !python ./finetune.py\n",
        "\n",
        "!cp -rf './lora-alpaca' '/content/drive/MyDrive/' + folder_path"
      ]
    }
  ],
  "metadata": {
    "accelerator": "GPU",
    "colab": {
      "machine_shape": "hm",
      "provenance": [],
      "authorship_tag": "ABX9TyOkrOH9+RLWP4O3DXozjg5e",
      "include_colab_link": true
    },
    "gpuClass": "premium",
    "kernelspec": {
      "display_name": "Python 3",
      "name": "python3"
    },
    "language_info": {
      "name": "python"
    }
  },
  "nbformat": 4,
  "nbformat_minor": 0
}
